{
 "cells": [
  {
   "cell_type": "markdown",
   "id": "ea6d2816-b57b-4498-a93d-3c430f1cee52",
   "metadata": {},
   "source": [
    "Ces instructions permettent de charger les différentes bibliothèques nécessaires à la réalisation de notre exemple.\n",
    "\n",
    "Remarquez l’import de la bibliothèque Keras à partir de TensorFlow. En effet, Keras est la bibliothèque de haut niveau officielle de développement des réseaux de neurones avec TensorFlow et cela depuis la version 2 de TensorFlow.\n",
    "\n",
    "Avant la version 2, pour utiliser Keras conjointement avec TensorFlow pour le développement de réseaux de neurones, il aurait fallu installer TensorFlow, puis installer Keras. Mais depuis la version 2 de TensorFlow, une version de Keras a été intégrée à TensorFlow et est dédiée aux développements des réseaux de neurones.\n",
    "\n",
    "Il ne faut donc pas confondre la bibliothèque Keras, qui peut être utilisée pour le développement de réseaux de neurones conjointement avec TensorFlow ou Theano ou autre framework, et la bibliothèque Keras intégrée à TensorFlow et qui, elle, ne fonctionne qu’avec TensorFlow."
   ]
  },
  {
   "cell_type": "code",
   "execution_count": 1,
   "id": "18923755",
   "metadata": {},
   "outputs": [
    {
     "name": "stderr",
     "output_type": "stream",
     "text": [
      "2024-02-26 20:59:19.409902: I external/local_tsl/tsl/cuda/cudart_stub.cc:31] Could not find cuda drivers on your machine, GPU will not be used.\n",
      "2024-02-26 20:59:19.462610: E external/local_xla/xla/stream_executor/cuda/cuda_dnn.cc:9261] Unable to register cuDNN factory: Attempting to register factory for plugin cuDNN when one has already been registered\n",
      "2024-02-26 20:59:19.462641: E external/local_xla/xla/stream_executor/cuda/cuda_fft.cc:607] Unable to register cuFFT factory: Attempting to register factory for plugin cuFFT when one has already been registered\n",
      "2024-02-26 20:59:19.464051: E external/local_xla/xla/stream_executor/cuda/cuda_blas.cc:1515] Unable to register cuBLAS factory: Attempting to register factory for plugin cuBLAS when one has already been registered\n",
      "2024-02-26 20:59:19.471882: I external/local_tsl/tsl/cuda/cudart_stub.cc:31] Could not find cuda drivers on your machine, GPU will not be used.\n",
      "2024-02-26 20:59:19.472615: I tensorflow/core/platform/cpu_feature_guard.cc:182] This TensorFlow binary is optimized to use available CPU instructions in performance-critical operations.\n",
      "To enable the following instructions: AVX2 FMA, in other operations, rebuild TensorFlow with the appropriate compiler flags.\n",
      "2024-02-26 20:59:20.480777: W tensorflow/compiler/tf2tensorrt/utils/py_utils.cc:38] TF-TRT Warning: Could not find TensorRT\n"
     ]
    }
   ],
   "source": [
    "import tensorflow as tf\n",
    "from tensorflow import keras\n",
    "import os\n",
    "import pandas as pd\n",
    "import numpy as np\n",
    "import matplotlib.pyplot as plt\n",
    "\n",
    "os.environ['TF_CPP_MIN_LOG_LEVEL']='2'"
   ]
  },
  {
   "cell_type": "markdown",
   "id": "f4a3062c-6da7-4a62-ba31-5c2bf4cf96aa",
   "metadata": {},
   "source": [
    "Le code suivant permet de charger le jeu de données fashion_mnist à partir des datasets présents dans keras.datasets."
   ]
  },
  {
   "cell_type": "code",
   "execution_count": 2,
   "id": "78c181a5",
   "metadata": {},
   "outputs": [],
   "source": [
    "fashion_mnist_data = keras.datasets.fashion_mnist\n",
    "(all_x_train, all_y_train), (x_test, y_test) = fashion_mnist_data.load_data()\n",
    "\n",
    "all_x_train = all_x_train.astype('float32') \n",
    "x_test = x_test.astype('float32')"
   ]
  },
  {
   "cell_type": "markdown",
   "id": "d8e351c1-4f10-42d5-aaef-719d28f8c2f4",
   "metadata": {},
   "source": [
    "À la suite de l’exécution de la cellule précédente, nous aurons construit deux jeux de données : un premier jeu de données all_x_train avec ses classes associées all_y_train qui nous servira pour entraîner un réseau de neurones et un deuxième jeu de données x_test avec ses classes associées y_test qui nous servira pour évaluer un réseau de neurones. Également, ces deux jeux de données ont été reformatés avec le type float32.\n",
    "\n",
    "Les instructions suivantes affichent la taille du jeu de données all_x_train, la taille d’une image de ce jeu de données, le type associé à chaque pixel de ses images et la taille du jeu de données x_test."
   ]
  },
  {
   "cell_type": "code",
   "execution_count": 3,
   "id": "8783904b",
   "metadata": {},
   "outputs": [
    {
     "name": "stdout",
     "output_type": "stream",
     "text": [
      "all_x_train.shape = (60000, 28, 28)\n",
      "all_x_train[0].shape = (28, 28)\n",
      "all_x_train[0].dtype = float32\n",
      "x_test.shape = (10000, 28, 28)\n"
     ]
    }
   ],
   "source": [
    "print(f\"all_x_train.shape = {all_x_train.shape}\")\n",
    "print(f\"all_x_train[0].shape = {all_x_train[0].shape}\")\n",
    "print(f\"all_x_train[0].dtype = {all_x_train[0].dtype}\")\n",
    "\n",
    "print(f\"x_test.shape = {x_test.shape}\")\n"
   ]
  },
  {
   "cell_type": "markdown",
   "id": "630d3ce1-4c75-4d84-9d34-d78a3c2d57cb",
   "metadata": {},
   "source": [
    "Nous avons donc 60 000 images dans le jeu de données all_x_train et chacune de ces images est représentée par une matrice de 28 x 28 dont chaque valeur est de type float32 et nous avons 10 000 images dans le jeu de données x_test."
   ]
  },
  {
   "cell_type": "markdown",
   "id": "8a6e24c3-48a7-4996-89ed-458d079df786",
   "metadata": {},
   "source": [
    "Le code suivant permet de séparer le jeu de données all_x_train en deux groupes de données pour ainsi avoir un jeu de données à utiliser comme étant les données de validation. Nous allons voir par la suite à quoi vont nous servir ces données de validation."
   ]
  },
  {
   "cell_type": "code",
   "execution_count": 4,
   "id": "fa22b836",
   "metadata": {},
   "outputs": [],
   "source": [
    "x_validation, x_train = all_x_train[:5000] / 255.0, all_x_train[5000:] / 255.0\n",
    "y_validation, y_train = all_y_train[:5000], all_y_train[5000:]"
   ]
  },
  {
   "cell_type": "markdown",
   "id": "860b4ea5-f7ea-4b48-9b78-7f6cb87dd964",
   "metadata": {},
   "source": [
    "À la suite de l’exécution de la dernière cellule, nous aurons construit les deux nouveaux jeux de données x_validation et x_train. Dans le jeu de données x_validation nous aurons stocké les 5 000 premières images de all_x_train et dans le jeu de données x_train nous aurons stocké les 55 000 images restantes. Le fait de diviser les pixels de toutes ces images par 255 permet de normaliser leurs valeurs.\n",
    "\n",
    "Les instructions suivantes affichent les mêmes informations que celles affichées précédemment sur le jeu de données all_x_train, mais cette fois les informations affichées concernent les images de x_train."
   ]
  },
  {
   "cell_type": "code",
   "execution_count": 5,
   "id": "17a16b19",
   "metadata": {},
   "outputs": [
    {
     "name": "stdout",
     "output_type": "stream",
     "text": [
      "x_train.shape = (55000, 28, 28)\n",
      "x_train[0].shape = (28, 28)\n",
      "x_train[0].dtype = float32\n"
     ]
    }
   ],
   "source": [
    "print(f\"x_train.shape = {x_train.shape}\")\n",
    "print(f\"x_train[0].shape = {x_train[0].shape}\")\n",
    "print(f\"x_train[0].dtype = {x_train[0].dtype}\")"
   ]
  },
  {
   "cell_type": "markdown",
   "id": "696bba62-4bca-48d4-a056-ee0752ec9ac8",
   "metadata": {},
   "source": [
    "On voit bien que nous avons 55 000 images dans le jeu de données x_train.\n",
    "\n",
    "Le code suivant permet de stocker dans la liste fashion_mnist_class_names les vrais noms des produits associés aux images de nos données. En effet, les classes des images indiquées dans les tableaux y_validation, y_train et y_test sont des valeurs entre 0 et 9 et la liste fashion_mnist_class_names va nous permettre d’associer des noms de produits à ces valeurs."
   ]
  },
  {
   "cell_type": "code",
   "execution_count": 6,
   "id": "2737da54",
   "metadata": {},
   "outputs": [],
   "source": [
    "fashion_mnist_class_names = [\"T-shirt/top\", \"Trouser\", \"Pullover\", \"Dress\", \"Coat\", \"Sandal\", \"Shirt\", \"Sneaker\", \"Bag\", \"Ankle boot\"]"
   ]
  },
  {
   "cell_type": "markdown",
   "id": "029a872a-36a6-47aa-842c-d9a6f2ecc333",
   "metadata": {},
   "source": [
    "Le code suivant permet d’afficher une association entre les cinq premières valeurs numériques de x_train avec leurs noms de produits de la liste fashion_mnist_class_names."
   ]
  },
  {
   "cell_type": "code",
   "execution_count": 7,
   "id": "6b0d21a3",
   "metadata": {},
   "outputs": [
    {
     "name": "stdout",
     "output_type": "stream",
     "text": [
      "0 : Coat\n",
      "1 : T-shirt/top\n",
      "2 : Sneaker\n",
      "3 : Ankle boot\n",
      "4 : Ankle boot\n"
     ]
    }
   ],
   "source": [
    "for cls in range(5):\n",
    "    print(cls, \":\",fashion_mnist_class_names[y_train[cls]]) "
   ]
  },
  {
   "cell_type": "markdown",
   "id": "c514ef61-ed23-44b3-bfaf-ce94e452412b",
   "metadata": {},
   "source": [
    "Le code suivant permet d’afficher les deux premières images de x_train avec leur nom de produit."
   ]
  },
  {
   "cell_type": "code",
   "execution_count": 8,
   "id": "abaf0bfb-5ef2-4026-80df-d85687108291",
   "metadata": {},
   "outputs": [
    {
     "data": {
      "image/png": "[encoded data removed]",
      "text/plain": [
       "<Figure size 640x480 with 1 Axes>"
      ]
     },
     "metadata": {},
     "output_type": "display_data"
    },
    {
     "data": {
      "image/png": "[encoded data removed]",
      "text/plain": [
       "<Figure size 640x480 with 1 Axes>"
      ]
     },
     "metadata": {},
     "output_type": "display_data"
    }
   ],
   "source": [
    "for i in range(2):\n",
    "    my_img= x_train[i]\n",
    "    my_img_class = y_train[i]\n",
    "    my_img_class_name = fashion_mnist_class_names[my_img_class] \n",
    "    plt.imshow(my_img)\n",
    "    plt.title(my_img_class_name)\n",
    "    plt.show() "
   ]
  },
  {
   "cell_type": "markdown",
   "id": "cbf82ab8-516e-4834-b387-ef8267c302c3",
   "metadata": {},
   "source": [
    "En résumé, à ce stade nous avons construit les trois jeux de données suivants :\n",
    "\n",
    "    (x_train, y_train) : constitué de 55 000 images avec leurs classes associées et qui sera utilisé pour l’entraînement d’un réseau de neurones.\n",
    "\n",
    "    (x_validation, y_validation) : constitué de 5 000 images avec leurs classes associées et qui sera utilisé pour évaluer le réseau de neurones à la fin de chaque itération lors de la phase d’entraînement d’un réseau de neurones. \n",
    "\n",
    "    (x_test, y_test) : constitué de 10 000 images avec leurs classes associées et qui sera utilisé pour évaluer le réseau de neurones à la fin de toutes les itérations de la phase d’entraînement d’un réseau de neurones."
   ]
  },
  {
   "cell_type": "markdown",
   "id": "f4a80522-973f-4106-b46a-4c9dbc95fd7f",
   "metadata": {},
   "source": [
    "Pour définir l’architecture de notre réseau de neurones, nous allons utiliser la bibliothèque Keras dans sa version intégrée à TensorFlow.  \n",
    "\n",
    "Le code suivant permet de définir la structure de notre réseau de neurones."
   ]
  },
  {
   "cell_type": "code",
   "execution_count": 9,
   "id": "63948b21",
   "metadata": {},
   "outputs": [],
   "source": [
    "model1 = keras.models.Sequential()\n",
    "model1.add(keras.layers.Flatten(input_shape=[28, 28]))\n",
    "model1.add(keras.layers.Dense(300, activation=\"relu\"))\n",
    "model1.add(keras.layers.Dense(150, activation=\"relu\"))\n",
    "model1.add(keras.layers.Dense(10, activation=\"softmax\"))"
   ]
  },
  {
   "cell_type": "markdown",
   "id": "12b9c900-bd28-43d7-a4be-b85265fd00c1",
   "metadata": {},
   "source": [
    "Ce code commence par créer l’objet model1 avec la classe models.Sequential qui correspond, pour rappel, à un réseau de neurones dont les couches sont connectées les unes aux autres de manière linéaire. Puis nous avons défini pour ce réseau de neurones model1 une couche d’entrée, deux couches cachées et une couche de sortie définies comme suit :\n",
    "\n",
    "1.La couche d’entrée de type Flatten. Ce type de couche permet d’aplatir les tableaux à deux dimensions qui contient les données sous-jacentes aux images pour les transformer en tableau à une seule dimension. Cette couche de type Flatten, lorsqu’elle reçoit une matrice 28 x 28 valeurs en entrée, produira à sa sortie un tableau de 784 valeurs. L’argument input_shape permet justement de définir la taille des données en entrée. \n",
    "\n",
    "2.Deux couches cachées : une première couche cachée avec 300 neurones et avec la fonction d’activation relu suivie d’une deuxième couche cachée avec 150 neurones et également avec la fonction d’activation relu. Ces deux couches cachées sont de type Dense. Le type Dense permet de définir des couches dont les neurones sont connectés à tous les neurones de la couche précédente.\n",
    "\n",
    "3.La couche de sortie de type Dense et qui est définie avec 10 neurones et la fonction d’activation softmax. Cette couche de sortie a besoin de dix neurones car le modèle de classification que nous sommes en train de développer doit reconnaître la présence dans une image d’un produit parmi dix produits. En d’autres termes, nous souhaitons développer un modèle de classification pour dix classes différentes, donc la dernière couche doit avoir dix neurones. Chacun des dix neurones de la couche de sortie sera entraîné pour reconnaître l’un des dix produits !\n",
    "\n",
    "Nous n’allons pas entrer dans les détails de la définition des fonctions d’activation relu et softmax car cela n’est pas l’objectif de ce chapitre, cependant il faut savoir que la fonction relu permet d’avoir des couches cachées efficaces et la fonction softmax permet d’obtenir la probabilité du produit qui a le plus de chances d’être celui qui figure dans une image donnée. Généralement, lorsque le problème à résoudre est un problème de classification où le nombre de classes est supérieur à 2 et où nous souhaitons associer une et une seule classe pour chaque image, alors la fonction softmax devrait être utilisée. "
   ]
  },
  {
   "cell_type": "code",
   "execution_count": 10,
   "id": "7481b0c8",
   "metadata": {},
   "outputs": [
    {
     "name": "stdout",
     "output_type": "stream",
     "text": [
      "Model: \"sequential\"\n",
      "_________________________________________________________________\n",
      " Layer (type)                Output Shape              Param #   \n",
      "=================================================================\n",
      " flatten (Flatten)           (None, 784)               0         \n",
      "                                                                 \n",
      " dense (Dense)               (None, 300)               235500    \n",
      "                                                                 \n",
      " dense_1 (Dense)             (None, 150)               45150     \n",
      "                                                                 \n",
      " dense_2 (Dense)             (None, 10)                1510      \n",
      "                                                                 \n",
      "=================================================================\n",
      "Total params: 282160 (1.08 MB)\n",
      "Trainable params: 282160 (1.08 MB)\n",
      "Non-trainable params: 0 (0.00 Byte)\n",
      "_________________________________________________________________\n"
     ]
    }
   ],
   "source": [
    "model1.summary() "
   ]
  },
  {
   "cell_type": "markdown",
   "id": "c308b9c8-0ce0-486f-8757-c3423e3fa216",
   "metadata": {},
   "source": [
    "À gauche de cette figure, on voit les noms attribués par défaut par TensorFlow aux quatre couches de notre réseau de neurones model1. Ces noms sont flatten, dense, dense_1 et dense_2.\n",
    "\n",
    "La colonne Output Shape montre le nombre de résultats à la sortie de chaque couche. En résumé, nous avons les 784 poids associés à la sortie de la couche d’entrée flatten puisque, comme mentionné précédemment, cette couche transforme une matrice de 28 x 28 en un tableau à une dimension, les 300 sorties associées aux résultats des 300 neurones de la première couche cachée dense, les 150 sorties associées aux résultats des 150 neurones de la deuxième couche cachée dense_1, et enfin, les 10 sorties associées aux résultats des 10 neurones de la couche de sortie dense_2.\n",
    "\n",
    "La colonne Param indique le nombre de poids et de biais attachés à chaque couche. Ainsi, la couche d’entrée flatten a 0 poids et biais. La première couche cachée dense a 235 500 poids et biais. En effet, les 784 sorties au niveau de la couche d’entrée flatten sont connectées à chacun des 300 neurones de cette couche cachée dense, ce qui fait 784 * 300 = 235 200 poids auxquels il faut ajouter les 300 biais associés à cette couche, un biais par neurone comme nous l’avons vu au chapitre précédent. Donc, au total, la couche dense aura 235 200 + 300= 235 500 poids !\n",
    "\n",
    "De même, la couche cachée dense_1 aura 300 * 150 = 45 000 poids issus de la couche cachée précédente plus 150 biais associés à cette couche, ce qui fait un total de 45 150 poids et biais associés à cette deuxième couche cachée dense_1. De la même manière, le nombre de poids et biais de la couche de sortie dense_2 est égal à 150 * 10 + 10 = 1 510."
   ]
  },
  {
   "cell_type": "code",
   "execution_count": null,
   "id": "c3a174d8-9f03-4144-a442-35162512ebc4",
   "metadata": {},
   "outputs": [],
   "source": []
  },
  {
   "cell_type": "markdown",
   "id": "b691f330-663b-466d-9ca7-532f143fcac2",
   "metadata": {},
   "source": [
    "Une fois que les couches d’un réseau de neurones sont définies, on peut accéder aux informations de chaque couche. L’exemple de code suivant montre comment accéder aux valeurs des poids et aux valeurs des biais de la deuxième couche cachée dense_1"
   ]
  },
  {
   "cell_type": "markdown",
   "id": "761078dd-2b1a-430d-b85e-f2407ffefdc1",
   "metadata": {},
   "source": [
    "Ce code récupère dans la variable hidden_ la deuxième couche cachée en utilisant la méthode get_layer. Puis la méthode get_weights retourne les poids de cette deuxième couche cachée dans la variable weights et les biais de cette même couche cachée dans la variable biases"
   ]
  },
  {
   "cell_type": "code",
   "execution_count": 11,
   "id": "3b386629",
   "metadata": {},
   "outputs": [
    {
     "name": "stdout",
     "output_type": "stream",
     "text": [
      "Les poids :\n",
      " \n",
      "[[ 0.0971503  -0.06276421 -0.07359383 ... -0.09492786 -0.09306724\n",
      "  -0.04942652]\n",
      " [ 0.09617344 -0.00970258  0.07928923 ...  0.03497346  0.01526555\n",
      "  -0.07491544]\n",
      " [-0.05127291 -0.04361621  0.06353578 ... -0.0646178  -0.08421732\n",
      "  -0.05573966]\n",
      " ...\n",
      " [-0.03122966 -0.06999946  0.07557711 ...  0.02538756  0.009168\n",
      "   0.11092734]\n",
      " [ 0.03401354 -0.07668132  0.08299826 ...  0.08151992  0.04606563\n",
      "   0.10091698]\n",
      " [ 0.06442858 -0.0871415  -0.04963771 ...  0.03228958  0.00048093\n",
      "  -0.06591557]]\n",
      "(300, 150)\n",
      "\n",
      "Les biais :\n",
      " \n",
      "[0. 0. 0. 0. 0. 0. 0. 0. 0. 0. 0. 0. 0. 0. 0. 0. 0. 0. 0. 0. 0. 0. 0. 0.\n",
      " 0. 0. 0. 0. 0. 0. 0. 0. 0. 0. 0. 0. 0. 0. 0. 0. 0. 0. 0. 0. 0. 0. 0. 0.\n",
      " 0. 0. 0. 0. 0. 0. 0. 0. 0. 0. 0. 0. 0. 0. 0. 0. 0. 0. 0. 0. 0. 0. 0. 0.\n",
      " 0. 0. 0. 0. 0. 0. 0. 0. 0. 0. 0. 0. 0. 0. 0. 0. 0. 0. 0. 0. 0. 0. 0. 0.\n",
      " 0. 0. 0. 0. 0. 0. 0. 0. 0. 0. 0. 0. 0. 0. 0. 0. 0. 0. 0. 0. 0. 0. 0. 0.\n",
      " 0. 0. 0. 0. 0. 0. 0. 0. 0. 0. 0. 0. 0. 0. 0. 0. 0. 0. 0. 0. 0. 0. 0. 0.\n",
      " 0. 0. 0. 0. 0. 0.]\n",
      "(150,)\n"
     ]
    }
   ],
   "source": [
    "hidden_ = model1.get_layer('dense_1')\n",
    "weights, biases = hidden_.get_weights()\n",
    "print(\"Les poids :\\n \")\n",
    "print(weights) \n",
    "print(weights.shape)\n",
    "print(\"\\nLes biais :\\n \")\n",
    "print(biases)\n",
    "print(biases.shape)"
   ]
  },
  {
   "cell_type": "markdown",
   "id": "e7a5d66c-82a8-4ce9-90a9-b875e9944346",
   "metadata": {},
   "source": [
    "On voit que les poids de cette deuxième couche cachée sont stockés dans un tableau de 300 x 150, c’est-à-dire une matrice. Chaque colonne de cette matrice correspond aux entrées de l’un des 150 neurones de cette couche cachée. \n",
    "\n",
    "Les 150 biais de cette couche ont tous été initialisés avec la valeur 0.\n",
    "\n",
    "En réalité, les biais de toutes les couches sont initialisés par défaut avec la valeur 0."
   ]
  },
  {
   "cell_type": "code",
   "execution_count": null,
   "id": "fd30d6da-0b95-424c-9563-df3e986d6dd8",
   "metadata": {},
   "outputs": [],
   "source": []
  },
  {
   "cell_type": "markdown",
   "id": "c901ba8c-a097-434c-b797-2ed5779c1690",
   "metadata": {},
   "source": [
    "On peut utiliser les fonctions de tensorflow.keras.initializers afin d’initialiser les poids et les biais des couches d’un réseau de neurones. Par exemple, le code suivant permet de créer un deuxième réseau de neurones model2 avec la même structure que le réseau de neurones model1, mais cette fois les poids et les biais de la deuxième couche cachée de model2 sont initialisés avec des valeurs autres que les valeurs par défaut.\n",
    "\n",
    "Dans ce code, la variable my_weights_initializer est associée à des poids initialisés avec la fonction RandomNormal qui permet d’obtenir des valeurs distribuées suivant la loi normale centrée avec une moyenne indiquée avec l’argument mean qui est fixé ici à 100 et un écart-type indiqué par l’argument stddev qui est fixé ici à 1.\n",
    "\n",
    "Également, la variable my_bias_initializer est initialisée avec des valeurs égales à 1, puisque c’est la fonction Ones qui est utilisée.\n",
    "\n",
    "Lors de la création de la deuxième couche cachée avec la méthode add, la variable my_weights_initializer a été affectée à l’argument kernel_initializer et la variable my_bias_initializer a été affectée à l’argument bias_initializer."
   ]
  },
  {
   "cell_type": "code",
   "execution_count": 12,
   "id": "f77d5821",
   "metadata": {},
   "outputs": [
    {
     "name": "stdout",
     "output_type": "stream",
     "text": [
      "Model: \"sequential_1\"\n",
      "_________________________________________________________________\n",
      " Layer (type)                Output Shape              Param #   \n",
      "=================================================================\n",
      " flatten_1 (Flatten)         (None, 784)               0         \n",
      "                                                                 \n",
      " dense_3 (Dense)             (None, 300)               235500    \n",
      "                                                                 \n",
      " dense_4 (Dense)             (None, 150)               45150     \n",
      "                                                                 \n",
      " dense_5 (Dense)             (None, 10)                1510      \n",
      "                                                                 \n",
      "=================================================================\n",
      "Total params: 282160 (1.08 MB)\n",
      "Trainable params: 282160 (1.08 MB)\n",
      "Non-trainable params: 0 (0.00 Byte)\n",
      "_________________________________________________________________\n"
     ]
    }
   ],
   "source": [
    "model2 = keras.models.Sequential()\n",
    "model2.add(keras.layers.Flatten(input_shape=[28, 28]))\n",
    "model2.add(keras.layers.Dense(300, activation=\"relu\"))\n",
    "\n",
    "my_weights_initializer = tf.keras.initializers.RandomNormal(mean=100., stddev=1.)\n",
    "my_bias_initializer= tf.keras.initializers.Ones()  \n",
    "model2.add(keras.layers.Dense(150, activation=\"relu\" ,\\\n",
    "                                  kernel_initializer = my_weights_initializer, \\\n",
    "                                  bias_initializer = my_bias_initializer))\n",
    "model2.add(keras.layers.Dense(10, activation=\"softmax\"))\n",
    "\n",
    "model2.summary()\n",
    " "
   ]
  },
  {
   "cell_type": "markdown",
   "id": "2608e790-0d1c-42a5-bf99-f281bb522a56",
   "metadata": {},
   "source": [
    "Cette fois, la deuxième couche cachée est nommée dense_4. Le code suivant permet d’afficher les poids et les biais de cette couche."
   ]
  },
  {
   "cell_type": "code",
   "execution_count": 13,
   "id": "7b14c505",
   "metadata": {},
   "outputs": [
    {
     "name": "stdout",
     "output_type": "stream",
     "text": [
      "Les poids :\n",
      " \n",
      "[[ 99.60063   98.46609  100.51581  ... 100.87091   99.03558  100.31106 ]\n",
      " [ 98.85013   99.58561   99.09982  ...  98.96124   98.6993    99.43793 ]\n",
      " [ 98.731064  98.88551   98.57584  ...  98.924576  99.137085 101.61577 ]\n",
      " ...\n",
      " [101.714066  99.99365   99.30254  ... 100.33371   98.783325  99.90024 ]\n",
      " [100.815796 101.301     99.65347  ...  99.544075 100.99166   98.36214 ]\n",
      " [ 98.04225   98.94249  101.250946 ... 100.10597   99.55897   99.07951 ]]\n",
      "(300, 150)\n",
      "\n",
      "Les biais :\n",
      " \n",
      "[1. 1. 1. 1. 1. 1. 1. 1. 1. 1. 1. 1. 1. 1. 1. 1. 1. 1. 1. 1. 1. 1. 1. 1.\n",
      " 1. 1. 1. 1. 1. 1. 1. 1. 1. 1. 1. 1. 1. 1. 1. 1. 1. 1. 1. 1. 1. 1. 1. 1.\n",
      " 1. 1. 1. 1. 1. 1. 1. 1. 1. 1. 1. 1. 1. 1. 1. 1. 1. 1. 1. 1. 1. 1. 1. 1.\n",
      " 1. 1. 1. 1. 1. 1. 1. 1. 1. 1. 1. 1. 1. 1. 1. 1. 1. 1. 1. 1. 1. 1. 1. 1.\n",
      " 1. 1. 1. 1. 1. 1. 1. 1. 1. 1. 1. 1. 1. 1. 1. 1. 1. 1. 1. 1. 1. 1. 1. 1.\n",
      " 1. 1. 1. 1. 1. 1. 1. 1. 1. 1. 1. 1. 1. 1. 1. 1. 1. 1. 1. 1. 1. 1. 1. 1.\n",
      " 1. 1. 1. 1. 1. 1.]\n",
      "(150,)\n"
     ]
    }
   ],
   "source": [
    "hidden_ = model2.get_layer('dense_4')\n",
    "weights, biases = hidden_.get_weights()\n",
    "print(\"Les poids :\\n \")\n",
    "print(weights) \n",
    "print(weights.shape)\n",
    "print(\"\\nLes biais :\\n \")\n",
    "print(biases)\n",
    "print(biases.shape)"
   ]
  },
  {
   "cell_type": "markdown",
   "id": "ca1bd6aa-6895-4cfa-92f4-91d78a57ba1c",
   "metadata": {},
   "source": [
    "On voit dans ces résultats que les poids de la deuxième couche cachée dense_4 sont centrés autour de la valeur 100 et les biais ont été positionnés avec la valeur 1."
   ]
  },
  {
   "cell_type": "markdown",
   "id": "0ed0da6a-b10b-40e3-895b-7896fb8eb98c",
   "metadata": {},
   "source": [
    "Une fois que la structure d’un réseau de neurones est mise en place, avant d’introduire les données dans ce réseau pour entamer la phase d’entraînement, il est nécessaire de le compiler d’abord.\n",
    "\n",
    "Avec TensorFlow, compiler un réseau de neurones revient à indiquer les trois informations suivantes :\n",
    "\n",
    "1.La fonction loss à utiliser, c’est-à-dire indiquer comment calculer les erreurs à la sortie de la couche de sortie.\n",
    "\n",
    "2.Indiquer la méthode d’optimisation à utiliser lors des propagations arrière des erreurs.\n",
    "\n",
    "3.Les métriques de performance que nous souhaitons utiliser pour mesurer l’efficacité de l’apprentissage du réseau de neurones.\n",
    "\n",
    "Le code suivant montre un exemple de compilation du réseau de neurones model1 :"
   ]
  },
  {
   "cell_type": "code",
   "execution_count": 14,
   "id": "8aa1a875",
   "metadata": {},
   "outputs": [],
   "source": [
    "model1.compile(loss=\"sparse_categorical_crossentropy\", optimizer=\"sgd\", metrics=[\"accuracy\"])"
   ]
  },
  {
   "cell_type": "markdown",
   "id": "1c93412a-80e6-47c8-a35f-3c0808d0297d",
   "metadata": {},
   "source": [
    "À la suite de l’exécution de l’instruction précédente, notre réseau de neurones model1 est prêt pour recevoir les données d’entraînement !\n",
    "\n",
    "Nous n’allons pas entrer dans les détails de toutes les valeurs possibles pour les paramètres loss, optimizer et metrics car ceci dépasse la portée de ce livre. Néanmoins, la fonction sparse_categorical_crossentropy est utilisée comme fonction de calcul de perte lorsque nous avons, comme dans notre exemple, un problème de classification où la classe d’appartenance à la sortie du réseau de neurones est donnée par un vecteur de probabilités. En effet, dans cet exemple, à la sortie de notre réseau de neurones chaque résultat correspond à un vecteur de dix probabilités, une probabilité pour chaque produit d’être le produit présent dans une image.  "
   ]
  },
  {
   "cell_type": "markdown",
   "id": "3cbdca01-9352-440f-914a-cfa1496c6e17",
   "metadata": {},
   "source": [
    "À ce stade, l’entraînement de notre réseau de neurones peut être lancé. Pour cela, il suffit d’utiliser la méthode fit comme dans le code suivant :"
   ]
  },
  {
   "cell_type": "code",
   "execution_count": 15,
   "id": "e448a491",
   "metadata": {},
   "outputs": [
    {
     "name": "stdout",
     "output_type": "stream",
     "text": [
      "Epoch 1/40\n"
     ]
    },
    {
     "name": "stderr",
     "output_type": "stream",
     "text": [
      "2024-02-26 20:59:23.449741: W external/local_tsl/tsl/framework/cpu_allocator_impl.cc:83] Allocation of 172480000 exceeds 10% of free system memory.\n"
     ]
    },
    {
     "name": "stdout",
     "output_type": "stream",
     "text": [
      "1719/1719 [==============================] - 8s 4ms/step - loss: 0.7234 - accuracy: 0.7603 - val_loss: 0.5420 - val_accuracy: 0.8114\n",
      "Epoch 2/40\n",
      "1719/1719 [==============================] - 8s 5ms/step - loss: 0.4908 - accuracy: 0.8300 - val_loss: 0.4465 - val_accuracy: 0.8500\n",
      "Epoch 3/40\n",
      "1719/1719 [==============================] - 9s 5ms/step - loss: 0.4441 - accuracy: 0.8451 - val_loss: 0.4348 - val_accuracy: 0.8460\n",
      "Epoch 4/40\n",
      "1719/1719 [==============================] - 7s 4ms/step - loss: 0.4151 - accuracy: 0.8544 - val_loss: 0.3959 - val_accuracy: 0.8654\n",
      "Epoch 5/40\n",
      "1719/1719 [==============================] - 7s 4ms/step - loss: 0.3959 - accuracy: 0.8619 - val_loss: 0.3779 - val_accuracy: 0.8692\n",
      "Epoch 6/40\n",
      "1719/1719 [==============================] - 7s 4ms/step - loss: 0.3793 - accuracy: 0.8658 - val_loss: 0.3676 - val_accuracy: 0.8702\n",
      "Epoch 7/40\n",
      "1719/1719 [==============================] - 6s 4ms/step - loss: 0.3647 - accuracy: 0.8720 - val_loss: 0.3971 - val_accuracy: 0.8596\n",
      "Epoch 8/40\n",
      "1719/1719 [==============================] - 6s 4ms/step - loss: 0.3537 - accuracy: 0.8751 - val_loss: 0.3567 - val_accuracy: 0.8764\n",
      "Epoch 9/40\n",
      "1719/1719 [==============================] - 7s 4ms/step - loss: 0.3432 - accuracy: 0.8776 - val_loss: 0.3420 - val_accuracy: 0.8776\n",
      "Epoch 10/40\n",
      "1719/1719 [==============================] - 7s 4ms/step - loss: 0.3343 - accuracy: 0.8816 - val_loss: 0.3398 - val_accuracy: 0.8812\n",
      "Epoch 11/40\n",
      "1719/1719 [==============================] - 7s 4ms/step - loss: 0.3257 - accuracy: 0.8831 - val_loss: 0.3711 - val_accuracy: 0.8638\n",
      "Epoch 12/40\n",
      "1719/1719 [==============================] - 7s 4ms/step - loss: 0.3175 - accuracy: 0.8858 - val_loss: 0.3285 - val_accuracy: 0.8802\n",
      "Epoch 13/40\n",
      "1719/1719 [==============================] - 6s 4ms/step - loss: 0.3114 - accuracy: 0.8894 - val_loss: 0.3449 - val_accuracy: 0.8726\n",
      "Epoch 14/40\n",
      "1719/1719 [==============================] - 6s 4ms/step - loss: 0.3036 - accuracy: 0.8908 - val_loss: 0.3215 - val_accuracy: 0.8816\n",
      "Epoch 15/40\n",
      "1719/1719 [==============================] - 6s 3ms/step - loss: 0.2971 - accuracy: 0.8930 - val_loss: 0.3222 - val_accuracy: 0.8874\n",
      "Epoch 16/40\n",
      "1719/1719 [==============================] - 6s 4ms/step - loss: 0.2917 - accuracy: 0.8936 - val_loss: 0.3059 - val_accuracy: 0.8900\n",
      "Epoch 17/40\n",
      "1719/1719 [==============================] - 7s 4ms/step - loss: 0.2857 - accuracy: 0.8968 - val_loss: 0.3175 - val_accuracy: 0.8824\n",
      "Epoch 18/40\n",
      "1719/1719 [==============================] - 6s 4ms/step - loss: 0.2802 - accuracy: 0.8990 - val_loss: 0.3225 - val_accuracy: 0.8862\n",
      "Epoch 19/40\n",
      "1719/1719 [==============================] - 7s 4ms/step - loss: 0.2741 - accuracy: 0.9009 - val_loss: 0.3049 - val_accuracy: 0.8906\n",
      "Epoch 20/40\n",
      "1719/1719 [==============================] - 6s 4ms/step - loss: 0.2681 - accuracy: 0.9034 - val_loss: 0.3239 - val_accuracy: 0.8834\n",
      "Epoch 21/40\n",
      "1719/1719 [==============================] - 7s 4ms/step - loss: 0.2640 - accuracy: 0.9049 - val_loss: 0.3054 - val_accuracy: 0.8920\n",
      "Epoch 22/40\n",
      "1719/1719 [==============================] - 6s 4ms/step - loss: 0.2598 - accuracy: 0.9057 - val_loss: 0.2984 - val_accuracy: 0.8920\n",
      "Epoch 23/40\n",
      "1719/1719 [==============================] - 8s 5ms/step - loss: 0.2551 - accuracy: 0.9075 - val_loss: 0.2963 - val_accuracy: 0.8928\n",
      "Epoch 24/40\n",
      "1719/1719 [==============================] - 7s 4ms/step - loss: 0.2512 - accuracy: 0.9091 - val_loss: 0.3075 - val_accuracy: 0.8900\n",
      "Epoch 25/40\n",
      "1719/1719 [==============================] - 6s 4ms/step - loss: 0.2464 - accuracy: 0.9101 - val_loss: 0.2950 - val_accuracy: 0.8912\n",
      "Epoch 26/40\n",
      "1719/1719 [==============================] - 7s 4ms/step - loss: 0.2422 - accuracy: 0.9122 - val_loss: 0.2992 - val_accuracy: 0.8934\n",
      "Epoch 27/40\n",
      "1719/1719 [==============================] - 7s 4ms/step - loss: 0.2373 - accuracy: 0.9137 - val_loss: 0.3029 - val_accuracy: 0.8920\n",
      "Epoch 28/40\n",
      "1719/1719 [==============================] - 12s 7ms/step - loss: 0.2338 - accuracy: 0.9150 - val_loss: 0.2849 - val_accuracy: 0.8976\n",
      "Epoch 29/40\n",
      "1719/1719 [==============================] - 8s 5ms/step - loss: 0.2293 - accuracy: 0.9170 - val_loss: 0.2919 - val_accuracy: 0.8916\n",
      "Epoch 30/40\n",
      "1719/1719 [==============================] - 6s 3ms/step - loss: 0.2268 - accuracy: 0.9177 - val_loss: 0.2853 - val_accuracy: 0.8938\n",
      "Epoch 31/40\n",
      "1719/1719 [==============================] - 6s 3ms/step - loss: 0.2226 - accuracy: 0.9203 - val_loss: 0.2891 - val_accuracy: 0.8946\n",
      "Epoch 32/40\n",
      "1719/1719 [==============================] - 6s 3ms/step - loss: 0.2196 - accuracy: 0.9202 - val_loss: 0.2862 - val_accuracy: 0.9012\n",
      "Epoch 33/40\n",
      "1719/1719 [==============================] - 6s 4ms/step - loss: 0.2156 - accuracy: 0.9223 - val_loss: 0.2982 - val_accuracy: 0.8982\n",
      "Epoch 34/40\n",
      "1719/1719 [==============================] - 6s 4ms/step - loss: 0.2120 - accuracy: 0.9229 - val_loss: 0.2950 - val_accuracy: 0.8942\n",
      "Epoch 35/40\n",
      "1719/1719 [==============================] - 6s 4ms/step - loss: 0.2083 - accuracy: 0.9245 - val_loss: 0.3228 - val_accuracy: 0.8884\n",
      "Epoch 36/40\n",
      "1719/1719 [==============================] - 7s 4ms/step - loss: 0.2050 - accuracy: 0.9265 - val_loss: 0.2931 - val_accuracy: 0.8926\n",
      "Epoch 37/40\n",
      "1719/1719 [==============================] - 7s 4ms/step - loss: 0.2009 - accuracy: 0.9273 - val_loss: 0.2878 - val_accuracy: 0.8940\n",
      "Epoch 38/40\n",
      "1719/1719 [==============================] - 6s 4ms/step - loss: 0.1986 - accuracy: 0.9292 - val_loss: 0.2862 - val_accuracy: 0.8954\n",
      "Epoch 39/40\n",
      "1719/1719 [==============================] - 8s 5ms/step - loss: 0.1949 - accuracy: 0.9301 - val_loss: 0.2867 - val_accuracy: 0.8966\n",
      "Epoch 40/40\n",
      "1719/1719 [==============================] - 7s 4ms/step - loss: 0.1920 - accuracy: 0.9318 - val_loss: 0.2882 - val_accuracy: 0.8954\n"
     ]
    }
   ],
   "source": [
    "results = model1.fit(x_train, y_train, epochs=40,\\\n",
    "                    validation_data=(x_validation, y_validation))"
   ]
  },
  {
   "cell_type": "markdown",
   "id": "8d89fcf1-d54a-4d3a-9644-d781e33fa910",
   "metadata": {},
   "source": [
    "Les deux premiers arguments de la méthode fit indiquent le jeu de données d’entraînement. L’argument epochs indique le nombre d’itérations souhaité pour la phase d’entraînement, qui est fixé ici à 40. Pour rappel, à chaque itération les 55 000 images du jeu de données d’entraînement vont traverser le réseau de neurones. L’argument validation_data indique les données à utiliser à la fin de chaque itération afin d’évaluer les performances du réseau de neurones à la suite de cette itération. L’évaluation du réseau de neurones à la suite de chaque itération sur les données de validation sera calculée en fonction des métriques de performance indiquées avec l’argument metrics lors de la compilation du réseau de neurones.\n",
    "\n",
    "Chacune des lignes de ces résultats affiche les informations suivantes, en allant de la gauche vers la droite :\n",
    "\n",
    "    Le numéro de l’itération, par exemple 40/40 pour la dernière itération.\n",
    "\n",
    "    La progression du passage des données d’entraînement dans le réseau. Cette information est la même pour toutes les lignes des résultats puisque c’est toujours le même nombre de données qui vont traverser le réseau de neurones à chaque itération. Dans notre exemple, lorsque la dernière image traverse le réseau de neurones model1, cette information sera égale à 55 000.\n",
    "\n",
    "    Le temps consommé par l’itération en cours.\n",
    "\n",
    "    La valeur de la fonction utilisée pour calculer les erreurs à la sortie du réseau de neurones. Dans notre exemple, cette information est égale à 0.1928 lors de la dernière itération.\n",
    "\n",
    "    Les valeurs des métriques utilisées pour l’évaluation du réseau de neurones sur les données d’entraînement. Dans notre exemple, nous avons utilisé la métrique accuracy qui est égale à 0.9304 à la fin de la dernière itération.\n",
    "\n",
    "    Les deux dernières informations correspondent respectivement à la valeur de la fonction de calcul des erreurs et à la valeur du calcul des métriques de performance sur les données de validation. Dans notre exemple, ces deux valeurs sont égales respectivement à 0.3265 et 0.8860.\n",
    "\n",
    "Cela signifie que notre réseau de neurones parvient à classer correctement 88.60 % des 5 000 images du jeu de données de validation."
   ]
  },
  {
   "cell_type": "code",
   "execution_count": null,
   "id": "91aff606-db0b-4fbd-a419-d88e162537d9",
   "metadata": {},
   "outputs": [],
   "source": []
  },
  {
   "cell_type": "markdown",
   "id": "32d44044-7fb1-47ed-846a-8f3d99e918c2",
   "metadata": {},
   "source": [
    "Avec les résultats obtenus pendant la phase d’entraînement d’un réseau de neurones, nous pouvons tracer les quatre courbes intéressantes suivantes :\n",
    "\n",
    "1.La courbe d’évolution de la fonction de calcul des pertes à la sortie du réseau de neurones au fil des itérations par rapport aux données d’entraînement.\n",
    "\n",
    "2.La courbe d’évolution de la fonction de calcul des pertes à la sortie du réseau de neurones au fil des itérations par rapport aux données de validation.\n",
    "\n",
    "3.La courbe d’évolution des performances au fil des itérations par rapport aux données d’entraînement.\n",
    "\n",
    "4.La courbe d’évolution des performances au fil des itérations par rapport aux données de validation."
   ]
  },
  {
   "cell_type": "code",
   "execution_count": 16,
   "id": "022ff1c3",
   "metadata": {},
   "outputs": [
    {
     "data": {
      "image/png": "[encoded data removed]",
      "text/plain": [
       "<Figure size 800x500 with 1 Axes>"
      ]
     },
     "metadata": {},
     "output_type": "display_data"
    }
   ],
   "source": [
    "import pandas as pd\n",
    "pd.DataFrame(results.history).plot(figsize=(8, 5))\n",
    "plt.grid(True)\n",
    "plt.gca().set_ylim(0, 1)  \n",
    "plt.show()"
   ]
  },
  {
   "cell_type": "markdown",
   "id": "37fdba57-af13-409f-a023-835069e9fd58",
   "metadata": {},
   "source": [
    "La figure ci-dessus montre les quatre courbes obtenues suite à l’entraînement précédent du réseau de neurones model1\n",
    "\n",
    "Sur ces quatre courbes, nous pouvons observer que le calcul des pertes à la sortie du réseau de neurones model1 est en baisse au fur et à mesure des itérations, et ce sur les données d’entraînement et sur les données de validation. Également, le calcul de la métrique de performance accuracy augmente au fur et à mesure des itérations sur les données d’entraînement et également sur les données de validation.  \n",
    "\n",
    "Une observation qui est également intéressante à faire sur ce graphique est que l’évolution de la métrique accuracy sur les données d’entraînement et celle sur les données de validation sont très similaires, puisque leurs tracés respectifs sont proches l’un de l’autre et se suivent au fil des itérations. Cela indique qu’il y a une très forte probabilité que notre réseau de neurones ne soit pas en situation de surapprentissage."
   ]
  },
  {
   "cell_type": "code",
   "execution_count": null,
   "id": "a9315194-a17f-427c-a251-a02b009e925d",
   "metadata": {},
   "outputs": [],
   "source": []
  },
  {
   "cell_type": "markdown",
   "id": "6af91f90-4c91-4689-a672-a545bbc71cc7",
   "metadata": {},
   "source": [
    "Le code suivant permet d’évaluer le modèle model1 en utilisant le jeu de données (x_test, y_test).\n",
    "\n",
    "Ce code commence par la normalisation des données x_test en divisant tous les pixels de chacune des 10 000 images de x_train par 255. Puis l’évaluation du modèle model1 est réalisée via la méthode evaluate appliquée sur les images de x_test et les classes associées à ces images stockées dans y_test."
   ]
  },
  {
   "cell_type": "code",
   "execution_count": 17,
   "id": "511e56e9",
   "metadata": {},
   "outputs": [
    {
     "name": "stdout",
     "output_type": "stream",
     "text": [
      "Evaluation du modèle :\n",
      "313/313 [==============================] - 1s 3ms/step - loss: 0.3302 - accuracy: 0.8892\n"
     ]
    },
    {
     "data": {
      "text/plain": [
       "[0.3301997184753418, 0.88919997215271]"
      ]
     },
     "execution_count": 17,
     "metadata": {},
     "output_type": "execute_result"
    }
   ],
   "source": [
    "x_test= x_test/255.0\n",
    "print(\"Evaluation du modèle :\")\n",
    "model1.evaluate(x_test, y_test)"
   ]
  },
  {
   "cell_type": "markdown",
   "id": "d334de20-bfa2-43fc-b866-647249e81b11",
   "metadata": {},
   "source": [
    "Ces résultats montrent que sur le jeu de données de test notre réseau de neurones model1 parvient à classer correctement 88.11 % des images !"
   ]
  },
  {
   "cell_type": "code",
   "execution_count": null,
   "id": "4d3fac2c-7050-4b28-a25d-5cc64c059314",
   "metadata": {},
   "outputs": [],
   "source": []
  },
  {
   "cell_type": "markdown",
   "id": "a307e779-6573-40c7-b179-9bc81b9adfcc",
   "metadata": {},
   "source": [
    "Pour les besoins de notre exemple, afin de montrer comment réaliser des prédictions sur des images, nous allons récupérer les sept premières images de x_test et tester les réponses de notre réseau de neurones model1. Pour chacune des sept images, model1 va nous retourner un tableau de dix probabilités !"
   ]
  },
  {
   "cell_type": "code",
   "execution_count": 25,
   "id": "89003656",
   "metadata": {},
   "outputs": [
    {
     "name": "stdout",
     "output_type": "stream",
     "text": [
      "1/1 [==============================] - 0s 29ms/step\n",
      "y_prob :\n",
      "[[0.   0.   0.   0.   0.   0.01 0.   0.   0.   0.99]\n",
      " [0.   0.   0.99 0.   0.01 0.   0.   0.   0.   0.  ]\n",
      " [0.   1.   0.   0.   0.   0.   0.   0.   0.   0.  ]\n",
      " [0.   1.   0.   0.   0.   0.   0.   0.   0.   0.  ]\n",
      " [0.06 0.   0.   0.   0.   0.   0.94 0.   0.   0.  ]\n",
      " [0.   1.   0.   0.   0.   0.   0.   0.   0.   0.  ]\n",
      " [0.   0.   0.   0.   1.   0.   0.   0.   0.   0.  ]]\n",
      "1/1 [==============================] - 0s 32ms/step\n",
      "\n",
      "y_prediction :\n",
      " [9 2 1 1 6 1 4]\n"
     ]
    }
   ],
   "source": [
    "x_new = x_test[0:7]\n",
    "y_prob = model1.predict(x_new)\n",
    "print(f\"y_prob :\\n{y_prob.round(2)}\")\n",
    "_y_prediction = model1.predict(x_new)\n",
    "y_prediction=np.argmax(_y_prediction, axis=1)\n",
    "print(f\"\\ny_prediction :\\n {y_prediction}\")\n",
    "\n"
   ]
  },
  {
   "cell_type": "markdown",
   "id": "71c3614e-9a9d-48ef-a14a-2e7a8bcf70a2",
   "metadata": {},
   "source": [
    "Cette dernière résultat montre que, par exemple pour la première image, notre réseau de neurones prédit pour chacun des dix produits possibles la probabilité d’être celui présent dans cette image. Ainsi, toujours pour cette première image, le réseau de neurones model1 prédit une probabilité proche de la valeur 0 pour les sept premiers produits et également la probabilité 0 pour le produit numéro 8. En revanche, notre réseau de neurones model1 prédit que la première image correspond au produit numéro 7 avec la probabilité de 0.01 et cette même image correspond au produit numéro 9 avec la probabilité 0.99. Justement, c’est parce que pour chaque image notre réseau de neurones associe un vecteur de dix probabilités que nous avons choisi la fonction loss = sparse_categorical_crossentropy.\n",
    "\n",
    "Afin de comparer les prédictions de notre réseau de neurones avec les vraies valeurs correspondant aux images du jeu de données de test, le code suivant affiche les noms des classes prédites à côté des vrais noms de classes des sept premières images du jeu de données de test :"
   ]
  },
  {
   "cell_type": "code",
   "execution_count": 26,
   "id": "8038c412",
   "metadata": {},
   "outputs": [
    {
     "name": "stdout",
     "output_type": "stream",
     "text": [
      "       Prédictions : ['Ankle boot' 'Pullover' 'Trouser' 'Trouser' 'Shirt' 'Trouser' 'Coat']\n",
      "Les vraies classes : ['Ankle boot' 'Pullover' 'Trouser' 'Trouser' 'Shirt' 'Trouser' 'Coat']\n"
     ]
    }
   ],
   "source": [
    "print(f\"       Prédictions : {np.array(fashion_mnist_class_names)[y_prediction]}\")\n",
    "y_truth = y_test[0:7]\n",
    "print(f\"Les vraies classes : {np.array(fashion_mnist_class_names)[y_truth]}\")"
   ]
  },
  {
   "cell_type": "markdown",
   "id": "8e5ca80d-25ad-41d4-834e-3b9f1f0b46da",
   "metadata": {},
   "source": [
    "On voit que notre réseau de neurones a prédit correctement les classes des sept premières images de x_test."
   ]
  }
 ],
 "metadata": {
  "kernelspec": {
   "display_name": "Python 3 (ipykernel)",
   "language": "python",
   "name": "python3"
  },
  "language_info": {
   "codemirror_mode": {
    "name": "ipython",
    "version": 3
   },
   "file_extension": ".py",
   "mimetype": "text/x-python",
   "name": "python",
   "nbconvert_exporter": "python",
   "pygments_lexer": "ipython3",
   "version": "3.11.7"
  }
 },
 "nbformat": 4,
 "nbformat_minor": 5
}
