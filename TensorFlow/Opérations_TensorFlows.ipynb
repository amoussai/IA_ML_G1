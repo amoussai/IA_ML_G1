{
 "cells": [
  {
   "cell_type": "markdown",
   "id": "85b8defd-9cde-45c8-b9a0-f5927947a9a1",
   "metadata": {},
   "source": [
    "la dernière instruction de cette cellule permet d’éviter l’affichage inutile de certains messages d’informations de tensorflow."
   ]
  },
  {
   "cell_type": "code",
   "execution_count": 1,
   "id": "b3f96c78",
   "metadata": {},
   "outputs": [
    {
     "name": "stderr",
     "output_type": "stream",
     "text": [
      "2024-03-19 14:23:14.835201: I external/local_tsl/tsl/cuda/cudart_stub.cc:31] Could not find cuda drivers on your machine, GPU will not be used.\n",
      "2024-03-19 14:23:14.914780: E external/local_xla/xla/stream_executor/cuda/cuda_dnn.cc:9261] Unable to register cuDNN factory: Attempting to register factory for plugin cuDNN when one has already been registered\n",
      "2024-03-19 14:23:14.914814: E external/local_xla/xla/stream_executor/cuda/cuda_fft.cc:607] Unable to register cuFFT factory: Attempting to register factory for plugin cuFFT when one has already been registered\n",
      "2024-03-19 14:23:14.916678: E external/local_xla/xla/stream_executor/cuda/cuda_blas.cc:1515] Unable to register cuBLAS factory: Attempting to register factory for plugin cuBLAS when one has already been registered\n",
      "2024-03-19 14:23:14.927921: I external/local_tsl/tsl/cuda/cudart_stub.cc:31] Could not find cuda drivers on your machine, GPU will not be used.\n",
      "2024-03-19 14:23:14.928425: I tensorflow/core/platform/cpu_feature_guard.cc:182] This TensorFlow binary is optimized to use available CPU instructions in performance-critical operations.\n",
      "To enable the following instructions: AVX2 FMA, in other operations, rebuild TensorFlow with the appropriate compiler flags.\n",
      "2024-03-19 14:23:16.549437: W tensorflow/compiler/tf2tensorrt/utils/py_utils.cc:38] TF-TRT Warning: Could not find TensorRT\n"
     ]
    }
   ],
   "source": [
    "import tensorflow as tf \n",
    "import os\n",
    "import numpy as np \n",
    "\n",
    "os.environ['TF_CPP_MIN_LOG_LEVEL']='2'"
   ]
  },
  {
   "cell_type": "markdown",
   "id": "c279e530-2c66-4fd7-b429-de5e1505066b",
   "metadata": {},
   "source": [
    "Dans ce code, la variable B est un tensor qui est associé à un tableau à deux dimensions. Les valeurs de B ont été déclarées avec les deux valeurs réelles 1. et 2. et toutes les autres valeurs ont été fixées avec des valeurs entières. "
   ]
  },
  {
   "cell_type": "code",
   "execution_count": 2,
   "id": "7244dc47",
   "metadata": {},
   "outputs": [
    {
     "name": "stdout",
     "output_type": "stream",
     "text": [
      "B = [[1. 2. 3.]\n",
      " [4. 5. 6.]\n",
      " [7. 8. 9.]]\n"
     ]
    }
   ],
   "source": [
    "B = tf.constant([[1.,2.,3],[4,5,6],[7,8,9]])\n",
    "\n",
    "print(f\"B = {B}\")"
   ]
  },
  {
   "cell_type": "markdown",
   "id": "6b843af7-bd96-4bb9-b6eb-4af26616e48a",
   "metadata": {},
   "source": [
    "Les valeurs de B qui ont été déclarées avec des valeurs entières ont toutes été transformées en valeurs réelles ! Il suffit qu’il y ait une valeur réelle pour que TensorFlow considère que toutes les valeurs sont réelles. En effet, c’est tout à fait logique puisqu’avec le type des valeurs réelles on peut représenter toute valeur entière, mais pas l’inverse."
   ]
  },
  {
   "cell_type": "code",
   "execution_count": 3,
   "id": "da7ae62a",
   "metadata": {},
   "outputs": [
    {
     "name": "stdout",
     "output_type": "stream",
     "text": [
      "B.shape = (3, 3)\n",
      "B.dtype = <dtype: 'float32'>\n"
     ]
    }
   ],
   "source": [
    "print(f\"B.shape = {B.shape}\")\n",
    "print(f\"B.dtype = {B.dtype}\")"
   ]
  },
  {
   "cell_type": "markdown",
   "id": "31aae90f-90ee-400a-bc35-9567f2642148",
   "metadata": {},
   "source": [
    "Remarquez que par défaut le type des réels utilisé par TensorFlow est float32, contrairement à la bibliothèque numpy qui considère par défaut que le type des réels est le type float64.\n",
    "\n",
    "Pour accéder aux valeurs d’un tensor, on utilise la même notation que celle utilisée pour accéder aux valeurs d’un tableau numpy !\n",
    "\n",
    "L’instruction suivante permet d’afficher les lignes du tensor B en ignorant la première ligne, c’est-à-dire la ligne d’indice 0, et les deux premières colonnes en ignorant la dernière colonne. "
   ]
  },
  {
   "cell_type": "code",
   "execution_count": 5,
   "id": "baa03962",
   "metadata": {},
   "outputs": [
    {
     "name": "stdout",
     "output_type": "stream",
     "text": [
      "B[:,:] = [[1. 2. 3.]\n",
      " [4. 5. 6.]\n",
      " [7. 8. 9.]]\n"
     ]
    }
   ],
   "source": [
    "print(f\"B[:,:] = {B[:,:]}\") "
   ]
  },
  {
   "cell_type": "code",
   "execution_count": 17,
   "id": "e0adeb19",
   "metadata": {},
   "outputs": [
    {
     "name": "stdout",
     "output_type": "stream",
     "text": [
      "[[4. 5.]\n",
      " [7. 8.]]\n"
     ]
    }
   ],
   "source": [
    "print(f\"{B[1:,:2]}\")"
   ]
  },
  {
   "cell_type": "markdown",
   "id": "e63a12b9-1bac-4e94-9b65-0235c438b8fc",
   "metadata": {},
   "source": [
    "Les opérations arithmétiques peuvent être réalisées comme avec les tableaux numpy. Par exemple, le code suivant permet d’ajouter la valeur 100 au tensor B."
   ]
  },
  {
   "cell_type": "code",
   "execution_count": 4,
   "id": "b35a4a42",
   "metadata": {},
   "outputs": [
    {
     "name": "stdout",
     "output_type": "stream",
     "text": [
      "B+100 =\n",
      " [[101. 102. 103.]\n",
      " [104. 105. 106.]\n",
      " [107. 108. 109.]]\n"
     ]
    }
   ],
   "source": [
    "print(f\"B+100 =\\n {B+100}\")"
   ]
  },
  {
   "cell_type": "markdown",
   "id": "22444eaa-ac0e-44aa-a72b-02cb782bbcb3",
   "metadata": {},
   "source": [
    "L’opération d’addition précédente aurait pu être réalisée en utilisant la méthode add de TensorFlow "
   ]
  },
  {
   "cell_type": "code",
   "execution_count": 6,
   "id": "32497c45",
   "metadata": {},
   "outputs": [
    {
     "name": "stdout",
     "output_type": "stream",
     "text": [
      "B+100 =\n",
      " [[496. 497. 498.]\n",
      " [499. 500. 501.]\n",
      " [502. 503. 504.]]\n"
     ]
    }
   ],
   "source": [
    "print(f\"B+100 =\\n {tf.add(B,495)}\")  \n"
   ]
  },
  {
   "cell_type": "markdown",
   "id": "cd536966-7c1d-4668-b10f-a51e3d5e6457",
   "metadata": {},
   "source": [
    "Nous pouvons créer des tensors à partir de tableaux numpy. L’exemple suivant montre comment créer le tensor tf_tensor à partir du tableau numpy np_array_1."
   ]
  },
  {
   "cell_type": "code",
   "execution_count": 50,
   "id": "76397ec7",
   "metadata": {},
   "outputs": [
    {
     "name": "stdout",
     "output_type": "stream",
     "text": [
      "np_array_1 : [ 1.  2.  3.  4.  5.  6.  7.  8.  9. 10.]\n",
      "tf_tensor :  tf.Tensor([ 1.  2.  3.  4.  5.  6.  7.  8.  9. 10.], shape=(10,), dtype=float64)\n"
     ]
    }
   ],
   "source": [
    "np_array_1 = np.array([1.,2.,3.,4.,5.,6.,7.,8.,9.,10.])\n",
    "tf_tensor = tf.constant(np_array_1)\n",
    "print(\"np_array_1 :\", np_array_1)\n",
    "print(\"tf_tensor : \",tf_tensor) "
   ]
  },
  {
   "cell_type": "markdown",
   "id": "e04d0711-9140-48a4-b2ca-b41617636c29",
   "metadata": {},
   "source": [
    "Remarquez que cette fois TensorFlow a créé le tensor tf_tensor avec le type float64 et non pas le type float32 comme il aurait dû le faire, puisque les nombres réels sont représentés par défaut avec le type float32 ! C’est tout à fait normal car le tensor tf_tensor a été créé à partir d’un tableau numpy, et dans ce dernier les nombres réels sont représentés avec le type float64 et TensorFlow a réutilisé le type de np_array_1, donc le type float64, pour la création de tf_tensor.  \n",
    "\n",
    "On peut également réaliser l’opération inverse à l’opération précédente en créant un tableau numpy à partir d’un tensor ! Le code suivant permet de créer le tableau numpy np_array_2 à partir du tensor tf_tensor."
   ]
  },
  {
   "cell_type": "code",
   "execution_count": 23,
   "id": "6372bef1",
   "metadata": {},
   "outputs": [
    {
     "name": "stdout",
     "output_type": "stream",
     "text": [
      "np_array_2 :  [ 1.  2.  3.  4.  5.  6.  7.  8.  9. 10.]\n"
     ]
    }
   ],
   "source": [
    "np_array_2 = tf_tensor.numpy()\n",
    "print(\"np_array_2 : \", np_array_2) "
   ]
  },
  {
   "cell_type": "markdown",
   "id": "f26c358c-c4dc-4f03-ba89-cdee60e91e41",
   "metadata": {},
   "source": [
    "Un point important auquel il faut faire attention est le type des tensors lorsque nous les utilisons dans des opérations arithmétiques.\n",
    "\n",
    "Par exemple, le code suivant va générer une erreur à l’exécution, car le type du tensor a est float64 alors que le type du tensor b est le type par défaut, à savoir float32."
   ]
  },
  {
   "cell_type": "code",
   "execution_count": 7,
   "id": "e7ff2cba",
   "metadata": {},
   "outputs": [
    {
     "ename": "InvalidArgumentError",
     "evalue": "cannot compute AddV2 as input #1(zero-based) was expected to be a double tensor but is a float tensor [Op:AddV2] name: ",
     "output_type": "error",
     "traceback": [
      "\u001b[0;31m---------------------------------------------------------------------------\u001b[0m",
      "\u001b[0;31mInvalidArgumentError\u001b[0m                      Traceback (most recent call last)",
      "Cell \u001b[0;32mIn[7], line 3\u001b[0m\n\u001b[1;32m      1\u001b[0m a\u001b[38;5;241m=\u001b[39mtf\u001b[38;5;241m.\u001b[39mconstant(\u001b[38;5;241m10.\u001b[39m, dtype\u001b[38;5;241m=\u001b[39m\u001b[38;5;124m\"\u001b[39m\u001b[38;5;124mfloat64\u001b[39m\u001b[38;5;124m\"\u001b[39m)\n\u001b[1;32m      2\u001b[0m b \u001b[38;5;241m=\u001b[39m tf\u001b[38;5;241m.\u001b[39mconstant(\u001b[38;5;241m10.\u001b[39m) \n\u001b[0;32m----> 3\u001b[0m \u001b[38;5;28mprint\u001b[39m(\u001b[38;5;124mf\u001b[39m\u001b[38;5;124m\"\u001b[39m\u001b[38;5;124ma+b = \u001b[39m\u001b[38;5;132;01m{\u001b[39;00ma\u001b[38;5;241m+\u001b[39mb\u001b[38;5;132;01m}\u001b[39;00m\u001b[38;5;124m\"\u001b[39m)\n",
      "File \u001b[0;32m~/miniconda3/envs/teaching_env/lib/python3.11/site-packages/tensorflow/python/util/traceback_utils.py:153\u001b[0m, in \u001b[0;36mfilter_traceback.<locals>.error_handler\u001b[0;34m(*args, **kwargs)\u001b[0m\n\u001b[1;32m    151\u001b[0m \u001b[38;5;28;01mexcept\u001b[39;00m \u001b[38;5;167;01mException\u001b[39;00m \u001b[38;5;28;01mas\u001b[39;00m e:\n\u001b[1;32m    152\u001b[0m   filtered_tb \u001b[38;5;241m=\u001b[39m _process_traceback_frames(e\u001b[38;5;241m.\u001b[39m__traceback__)\n\u001b[0;32m--> 153\u001b[0m   \u001b[38;5;28;01mraise\u001b[39;00m e\u001b[38;5;241m.\u001b[39mwith_traceback(filtered_tb) \u001b[38;5;28;01mfrom\u001b[39;00m \u001b[38;5;28;01mNone\u001b[39;00m\n\u001b[1;32m    154\u001b[0m \u001b[38;5;28;01mfinally\u001b[39;00m:\n\u001b[1;32m    155\u001b[0m   \u001b[38;5;28;01mdel\u001b[39;00m filtered_tb\n",
      "File \u001b[0;32m~/miniconda3/envs/teaching_env/lib/python3.11/site-packages/tensorflow/python/framework/ops.py:5883\u001b[0m, in \u001b[0;36mraise_from_not_ok_status\u001b[0;34m(e, name)\u001b[0m\n\u001b[1;32m   5881\u001b[0m \u001b[38;5;28;01mdef\u001b[39;00m \u001b[38;5;21mraise_from_not_ok_status\u001b[39m(e, name) \u001b[38;5;241m-\u001b[39m\u001b[38;5;241m>\u001b[39m NoReturn:\n\u001b[1;32m   5882\u001b[0m   e\u001b[38;5;241m.\u001b[39mmessage \u001b[38;5;241m+\u001b[39m\u001b[38;5;241m=\u001b[39m (\u001b[38;5;124m\"\u001b[39m\u001b[38;5;124m name: \u001b[39m\u001b[38;5;124m\"\u001b[39m \u001b[38;5;241m+\u001b[39m \u001b[38;5;28mstr\u001b[39m(name \u001b[38;5;28;01mif\u001b[39;00m name \u001b[38;5;129;01mis\u001b[39;00m \u001b[38;5;129;01mnot\u001b[39;00m \u001b[38;5;28;01mNone\u001b[39;00m \u001b[38;5;28;01melse\u001b[39;00m \u001b[38;5;124m\"\u001b[39m\u001b[38;5;124m\"\u001b[39m))\n\u001b[0;32m-> 5883\u001b[0m   \u001b[38;5;28;01mraise\u001b[39;00m core\u001b[38;5;241m.\u001b[39m_status_to_exception(e) \u001b[38;5;28;01mfrom\u001b[39;00m \u001b[38;5;28;01mNone\u001b[39;00m\n",
      "\u001b[0;31mInvalidArgumentError\u001b[0m: cannot compute AddV2 as input #1(zero-based) was expected to be a double tensor but is a float tensor [Op:AddV2] name: "
     ]
    }
   ],
   "source": [
    "a=tf.constant(10., dtype=\"float64\")\n",
    "b = tf.constant(10.) \n",
    "print(f\"a+b = {a+b}\") #cette instruction va afficher une erreur à l'exécution"
   ]
  },
  {
   "cell_type": "markdown",
   "id": "acb95edc-a494-4d56-8b60-d3faf5d045cb",
   "metadata": {},
   "source": [
    "En effet, le code de cette dernière cellule, si vous tentez de l’exécuter, va lancer une erreur puisque pour TensorFlow il n’est pas possible d’additionner des float64 avec des float32 !\n",
    "\n",
    "Contrairement à ce que nous avons l’habitude de faire avec les langages de programmation classiques où nous pouvons réaliser des opérations arithmétiques entre des nombres réels même s’ils ne sont pas de même taille, TensorFlow considère que le fait de tenter une opération arithmétique entre des données de tailles différentes est dû à une erreur de conception.\n",
    "\n",
    "Ainsi, pour pouvoir réaliser l’opération d’addition précédente, il serait nécessaire de transformer l’un des deux opérandes vers le type de l’autre opérande. Le code suivant transforme l’opérande a qui était de type float64 vers le type float32."
   ]
  },
  {
   "cell_type": "code",
   "execution_count": 8,
   "id": "9f51aef4",
   "metadata": {},
   "outputs": [
    {
     "name": "stdout",
     "output_type": "stream",
     "text": [
      "a+b = 20.0\n"
     ]
    }
   ],
   "source": [
    "a=tf.constant(10., dtype=\"float64\")\n",
    "b = tf.constant(10.) \n",
    "\n",
    "a=tf.cast(a, tf.float32 )\n",
    "print(f\"a+b = {a+b}\")\n"
   ]
  },
  {
   "cell_type": "code",
   "execution_count": null,
   "id": "80e193cc-b2bd-4d53-aa1c-d6aadb44d3bd",
   "metadata": {},
   "outputs": [],
   "source": []
  },
  {
   "cell_type": "markdown",
   "id": "1fdf558b-199c-4d39-bb91-34b2fb2f6b15",
   "metadata": {},
   "source": [
    "Les tensors que nous avons eu l’occasion de manipuler à la section précédente sont des constantes, c’est-à-dire qu’une fois qu’ils ont été créés, nous ne pouvons pas modifier leurs valeurs.\n",
    "\n",
    "Les tensors dont les valeurs sont modifiables peuvent être créés avec la méthode Variable. Le code suivant crée le tensor tensor_1 en l’initialisant avec un tableau à deux dimensions, puis modifie les valeurs de ce tableau en utilisant la méthode assign."
   ]
  },
  {
   "cell_type": "code",
   "execution_count": 8,
   "id": "97d2d18b",
   "metadata": {},
   "outputs": [
    {
     "name": "stdout",
     "output_type": "stream",
     "text": [
      "tensor_1 = \n",
      "<tf.Variable 'Variable:0' shape=(3, 3) dtype=int32, numpy=\n",
      "array([[1, 2, 3],\n",
      "       [4, 5, 6],\n",
      "       [7, 8, 9]], dtype=int32)>\n",
      "tensor_1 = \n",
      "<tf.Variable 'Variable:0' shape=(3, 3) dtype=int32, numpy=\n",
      "array([[100, 200, 300],\n",
      "       [400, 500, 600],\n",
      "       [700, 800, 900]], dtype=int32)>\n"
     ]
    }
   ],
   "source": [
    "tensor_1 = tf.Variable([[1,2,3],[4,5,6],[7,8,9]])\n",
    " \n",
    "print(f\"tensor_1 = \\n{tensor_1}\")\n",
    "\n",
    "tensor_1.assign(tensor_1 * 100)\n",
    "print(f\"tensor_1 = \\n{tensor_1}\")"
   ]
  },
  {
   "cell_type": "markdown",
   "id": "16fbbb46-fcee-4d65-bb00-5a40ea8962ac",
   "metadata": {},
   "source": [
    "Il existe des méthodes de TensorFlow qui permettent d’initialiser les valeurs d’un tensor. Par exemple, le code suivant utilise la méthode zeros pour créer un tensor et l’associer à un tableau à deux dimensions, trois lignes et trois colonnes, dont toutes les valeurs sont égales à 0."
   ]
  },
  {
   "cell_type": "code",
   "execution_count": 10,
   "id": "1440d65c",
   "metadata": {},
   "outputs": [
    {
     "name": "stdout",
     "output_type": "stream",
     "text": [
      "tensor_2 = \n",
      "[[0. 0. 0. 0.]\n",
      " [0. 0. 0. 0.]\n",
      " [0. 0. 0. 0.]]\n"
     ]
    }
   ],
   "source": [
    "tensor_2 = tf.zeros((3,4))\n",
    "print(f\"tensor_2 = \\n{tensor_2}\")"
   ]
  },
  {
   "cell_type": "code",
   "execution_count": 14,
   "id": "ea6aec5e-b1f7-4455-a26d-71c0aec66374",
   "metadata": {},
   "outputs": [
    {
     "data": {
      "text/plain": [
       "<tf.Tensor: shape=(3, 4), dtype=float32, numpy=\n",
       "array([[1., 1., 1., 1.],\n",
       "       [1., 1., 1., 1.],\n",
       "       [1., 1., 1., 1.]], dtype=float32)>"
      ]
     },
     "execution_count": 14,
     "metadata": {},
     "output_type": "execute_result"
    }
   ],
   "source": [
    "tf.ones((3,4))"
   ]
  },
  {
   "cell_type": "markdown",
   "id": "d1edd052-6d3a-4d43-9cb4-604ea5f08c9b",
   "metadata": {},
   "source": [
    "On peut également initialiser un tensor avec des valeurs générées de manière aléatoire.\n",
    "Ce code génère un tensor associé à un tableau de quatre lignes et quatre colonnes dont les valeurs seront générées de manière pseudo-aléatoire, mais comprises entre 1 et 100"
   ]
  },
  {
   "cell_type": "code",
   "execution_count": 13,
   "id": "3d7ffb90",
   "metadata": {},
   "outputs": [
    {
     "name": "stdout",
     "output_type": "stream",
     "text": [
      "tensor_3 = \n",
      "[[44.98834   66.59426   31.01627   39.657845 ]\n",
      " [86.256805  74.088806  85.98891   90.65248  ]\n",
      " [46.11658   10.466301  13.400728  65.031975 ]\n",
      " [49.157013   3.4360874 89.44271   37.077644 ]]\n"
     ]
    }
   ],
   "source": [
    "tensor_3 = tf.random.uniform((4,4), minval=1, maxval=100)\n",
    "print(f\"tensor_3 = \\n{tensor_3}\")"
   ]
  },
  {
   "cell_type": "markdown",
   "id": "1ffcd35c-423f-4016-96cc-6b650a1a22df",
   "metadata": {},
   "source": [
    "Dans ce dernier exemple de méthodes d’initialisation des tensors, nous avons utilisé la méthode fill afin de choisir explicitement la valeur avec laquelle nous souhaitons initialiser le tensor tensor_4 et qui est la valeur 5."
   ]
  },
  {
   "cell_type": "code",
   "execution_count": 44,
   "id": "ade530f3",
   "metadata": {},
   "outputs": [
    {
     "name": "stdout",
     "output_type": "stream",
     "text": [
      "tensor_4 = \n",
      "[[5 5 5]\n",
      " [5 5 5]\n",
      " [5 5 5]]\n"
     ]
    }
   ],
   "source": [
    "tensor_4 = tf.fill((3,3), value = 5) \n",
    "print(f\"tensor_4 = \\n{tensor_4}\")"
   ]
  },
  {
   "cell_type": "markdown",
   "id": "23853bad-f087-4a85-8bfb-34ebc30cb1e4",
   "metadata": {},
   "source": [
    "Avec TensorFlow, nous pouvons effectuer toutes les opérations algébriques que nous pouvons réaliser avec les tableaux numpy. À titre d’exemple, le code suivant réalise la multiplication des deux matrices associées aux deux tensors tensor_5 et tensor_6. La multiplication est réalisée grâce à la méthode matmul de TensorFlow.\n",
    "\n",
    "Le résultat de cette multiplication est stocké dans le tensor tensor_7"
   ]
  },
  {
   "cell_type": "code",
   "execution_count": 47,
   "id": "5406b90f",
   "metadata": {},
   "outputs": [
    {
     "name": "stdout",
     "output_type": "stream",
     "text": [
      "tensor_5 = \n",
      "[[1 1 1]\n",
      " [1 1 1]]\n",
      "tensor_6 = \n",
      "[[2 2]\n",
      " [2 2]\n",
      " [2 2]]\n",
      "tensor_7 = \n",
      "[[6 6]\n",
      " [6 6]]\n"
     ]
    }
   ],
   "source": [
    "tensor_5 = tf.fill((2,3), 1) \n",
    "tensor_6 = tf.fill((3,2), 2) \n",
    "print(f\"tensor_5 = \\n{tensor_5}\")\n",
    "print(f\"tensor_6 = \\n{tensor_6}\")\n",
    "\n",
    "tensor_7 = tf.matmul(tensor_5, tensor_6)\n",
    "print(f\"tensor_7 = \\n{tensor_7}\")"
   ]
  },
  {
   "cell_type": "code",
   "execution_count": null,
   "id": "b3d8aa70",
   "metadata": {},
   "outputs": [],
   "source": []
  }
 ],
 "metadata": {
  "kernelspec": {
   "display_name": "Python 3 (ipykernel)",
   "language": "python",
   "name": "python3"
  },
  "language_info": {
   "codemirror_mode": {
    "name": "ipython",
    "version": 3
   },
   "file_extension": ".py",
   "mimetype": "text/x-python",
   "name": "python",
   "nbconvert_exporter": "python",
   "pygments_lexer": "ipython3",
   "version": "3.11.7"
  }
 },
 "nbformat": 4,
 "nbformat_minor": 5
}
