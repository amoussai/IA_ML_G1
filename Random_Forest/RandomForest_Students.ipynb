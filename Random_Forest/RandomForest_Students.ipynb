{
 "cells": [
  {
   "cell_type": "markdown",
   "id": "c1b45919-e91d-427d-9d14-1fa7fedcd4ea",
   "metadata": {},
   "source": [
    "# Utilisons l'ensemble de données IRIS de Scikit-Learn"
   ]
  },
  {
   "cell_type": "code",
   "execution_count": null,
   "id": "51673b5d-43ee-401e-a6db-2ddad9d56113",
   "metadata": {},
   "outputs": [],
   "source": [
    "# importing required libraries\n",
    "# importing Scikit-learn library and datasets package\n"
   ]
  },
  {
   "cell_type": "code",
   "execution_count": null,
   "id": "c88e1d5b-0b5f-4d6a-9f0b-db4be31fc99a",
   "metadata": {},
   "outputs": [],
   "source": [
    "# Loading the iris plants dataset (classification)"
   ]
  },
  {
   "cell_type": "code",
   "execution_count": null,
   "id": "19297fa2-0537-4008-92a0-40ff832b849d",
   "metadata": {},
   "outputs": [],
   "source": [
    "# Print target ames "
   ]
  },
  {
   "cell_type": "code",
   "execution_count": null,
   "id": "33e0ae28-ce9c-427b-8df3-f24e33b961ae",
   "metadata": {},
   "outputs": [],
   "source": [
    "# print features names"
   ]
  },
  {
   "cell_type": "code",
   "execution_count": null,
   "id": "aad1bba5-c627-46b4-b78e-77e95a5c3a07",
   "metadata": {},
   "outputs": [],
   "source": [
    "# dividing the datasets into two parts training datasets and test datasets\n",
    "# 70 % training dataset and 30 % test datasets\n"
   ]
  },
  {
   "cell_type": "code",
   "execution_count": null,
   "id": "123061ce-9981-4a19-87d4-7c6c23234dbb",
   "metadata": {},
   "outputs": [],
   "source": [
    "# creating dataframe of IRIS dataset\n"
   ]
  },
  {
   "cell_type": "code",
   "execution_count": null,
   "id": "efe13535-1e92-49fe-af3e-4ab2e87056ca",
   "metadata": {},
   "outputs": [],
   "source": [
    "# printing the top 5 datasets in iris dataset\n"
   ]
  },
  {
   "cell_type": "code",
   "execution_count": null,
   "id": "98a52ef0-fed9-4676-81c2-5bdae70406d9",
   "metadata": {},
   "outputs": [],
   "source": [
    "# creating a RF classifier with 100 estimators\n",
    "\n",
    "\n",
    "# Training the model on the training dataset\n",
    "\n",
    "# performing predictions on the test dataset\n",
    "\n",
    "# using metrics module for accuracy calculation\n"
   ]
  },
  {
   "cell_type": "code",
   "execution_count": null,
   "id": "562fc986-b779-4b02-a296-8ee79ba40df5",
   "metadata": {},
   "outputs": [],
   "source": [
    "# predicting which type of flower it is.\n"
   ]
  }
 ],
 "metadata": {
  "kernelspec": {
   "display_name": "Python 3 (ipykernel)",
   "language": "python",
   "name": "python3"
  },
  "language_info": {
   "codemirror_mode": {
    "name": "ipython",
    "version": 3
   },
   "file_extension": ".py",
   "mimetype": "text/x-python",
   "name": "python",
   "nbconvert_exporter": "python",
   "pygments_lexer": "ipython3",
   "version": "3.11.7"
  }
 },
 "nbformat": 4,
 "nbformat_minor": 5
}
